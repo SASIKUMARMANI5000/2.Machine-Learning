{
 "cells": [
  {
   "cell_type": "code",
   "execution_count": null,
   "id": "7a912435-743c-4a14-ad08-2db256af4937",
   "metadata": {},
   "outputs": [],
   "source": [
    "# Import the pickle in finalized model"
   ]
  },
  {
   "cell_type": "code",
   "execution_count": 1,
   "id": "78defd31-1644-410e-89ad-014de22a1d92",
   "metadata": {},
   "outputs": [],
   "source": [
    "import pickle"
   ]
  },
  {
   "cell_type": "code",
   "execution_count": null,
   "id": "5a16ffd2-c4c5-4ddf-b51b-1da586b64117",
   "metadata": {},
   "outputs": [],
   "source": [
    "# Load the model using .sav file"
   ]
  },
  {
   "cell_type": "code",
   "execution_count": 2,
   "id": "a93264a8-95c7-4156-ad01-fadbfd7058e3",
   "metadata": {},
   "outputs": [
    {
     "name": "stderr",
     "output_type": "stream",
     "text": [
      "C:\\Anaconda3\\Lib\\site-packages\\sklearn\\base.py:493: UserWarning: X does not have valid feature names, but LinearRegression was fitted with feature names\n",
      "  warnings.warn(\n"
     ]
    }
   ],
   "source": [
    "loaded_model=pickle.load(open(\"finalized_model_linear.sav\",'rb'))\n",
    "result=loaded_model.predict([[0]])"
   ]
  },
  {
   "cell_type": "code",
   "execution_count": null,
   "id": "fe737409-6b9d-4cb0-af55-69ab76aab38d",
   "metadata": {},
   "outputs": [],
   "source": [
    "# To run the result"
   ]
  },
  {
   "cell_type": "code",
   "execution_count": 3,
   "id": "ab619ad1-97f5-4db8-9da5-69e464eac546",
   "metadata": {},
   "outputs": [
    {
     "data": {
      "text/plain": [
       "array([[26777.3913412]])"
      ]
     },
     "execution_count": 3,
     "metadata": {},
     "output_type": "execute_result"
    }
   ],
   "source": [
    "result"
   ]
  }
 ],
 "metadata": {
  "kernelspec": {
   "display_name": "Python 3 (ipykernel)",
   "language": "python",
   "name": "python3"
  },
  "language_info": {
   "codemirror_mode": {
    "name": "ipython",
    "version": 3
   },
   "file_extension": ".py",
   "mimetype": "text/x-python",
   "name": "python",
   "nbconvert_exporter": "python",
   "pygments_lexer": "ipython3",
   "version": "3.12.4"
  }
 },
 "nbformat": 4,
 "nbformat_minor": 5
}
